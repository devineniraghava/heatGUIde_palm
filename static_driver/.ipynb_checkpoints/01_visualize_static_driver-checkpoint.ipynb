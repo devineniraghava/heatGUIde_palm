{
 "cells": [
  {
   "cell_type": "markdown",
   "metadata": {},
   "source": [
    "# Visualization"
   ]
  },
  {
   "cell_type": "markdown",
   "metadata": {},
   "source": [
    "## Imports\n"
   ]
  },
  {
   "cell_type": "code",
   "execution_count": 1,
   "metadata": {},
   "outputs": [
    {
     "name": "stdin",
     "output_type": "stream",
     "text": [
      "Once deleted, variables cannot be recovered. Proceed (y/[n])?  y\n"
     ]
    },
    {
     "data": {
      "text/plain": [
       "'0.20.2'"
      ]
     },
     "execution_count": 1,
     "metadata": {},
     "output_type": "execute_result"
    }
   ],
   "source": [
    "\n",
    "import xarray as xr\n",
    "import matplotlib as plt\n",
    "xr.__version__"
   ]
  },
  {
   "cell_type": "code",
   "execution_count": 2,
   "metadata": {},
   "outputs": [
    {
     "data": {
      "text/plain": [
       "(<xarray.Dataset>\n",
       " Dimensions:            (x: 20, y: 20, z: 65, zlad: 6, zsoil: 8, nsurface_fraction: 3)\n",
       " Coordinates:\n",
       "   * x                  (x) float32 0.5 1.5 2.5 3.5 4.5 ... 16.5 17.5 18.5 19.5\n",
       "   * y                  (y) float32 0.5 1.5 2.5 3.5 4.5 ... 16.5 17.5 18.5 19.5\n",
       "   * z                  (z) float32 0.0 0.5 1.5 2.5 3.5 ... 60.5 61.5 62.5 63.5\n",
       "   * zlad               (zlad) float32 0.0 0.5 1.5 2.5 3.5 4.5\n",
       "   * zsoil              (zsoil) float32 0.005 0.02 0.05 0.1 0.2 0.4 0.8 2.0\n",
       "   * nsurface_fraction  (nsurface_fraction) int32 0 1 2\n",
       " Data variables:\n",
       "     building_id        (y, x) float64 ...\n",
       "     buildings_2d       (y, x) float32 ...\n",
       "     buildings_3d       (z, y, x) float32 ...\n",
       "     zt                 (y, x) float32 ...\n",
       "     building_type      (y, x) float32 ...\n",
       "     pavement_type      (y, x) float32 ...\n",
       "     soil_type          (y, x) float32 ...\n",
       "     street_type        (y, x) float32 ...\n",
       "     surface_fraction   (nsurface_fraction, y, x) float32 ...\n",
       "     vegetation_type    (y, x) float32 ...\n",
       "     water_type         (y, x) float32 ...\n",
       "     lad                (zlad, y, x) float32 ...\n",
       " Attributes: (12/20)\n",
       "     title:           Example PALM static driver\n",
       "     author:          PALM user\n",
       "     institution:     Institut of Meteorology and Climatology,Leibniz Universi...\n",
       "     comment:         Generic crossing example\n",
       "     creation_date:   22-03-22 11:43:05 +00\n",
       "     history:         \n",
       "     ...              ...\n",
       "     origin_lon:      7.944378\n",
       "     origin_time:     2019-03-06 10:00:00 +00\n",
       "     origin_x:        3422021.0\n",
       "     origin_y:        5370972.0\n",
       "     origin_z:        0.0\n",
       "     rotation_angle:  0.0,\n",
       " <xarray.Dataset>\n",
       " Dimensions:            (x: 64, y: 72, z: 41, zlad: 6, zsoil: 8, nsurface_fraction: 3)\n",
       " Coordinates:\n",
       "   * x                  (x) float32 0.5 1.5 2.5 3.5 4.5 ... 60.5 61.5 62.5 63.5\n",
       "   * y                  (y) float32 0.5 1.5 2.5 3.5 4.5 ... 68.5 69.5 70.5 71.5\n",
       "   * z                  (z) float32 0.0 0.5 1.5 2.5 3.5 ... 36.5 37.5 38.5 39.5\n",
       "   * zlad               (zlad) float32 0.0 0.5 1.5 2.5 3.5 4.5\n",
       "   * zsoil              (zsoil) float32 0.005 0.02 0.05 0.1 0.2 0.4 0.8 2.0\n",
       "   * nsurface_fraction  (nsurface_fraction) int32 0 1 2\n",
       " Data variables:\n",
       "     building_id        (y, x) float64 ...\n",
       "     buildings_2d       (y, x) float32 ...\n",
       "     buildings_3d       (z, y, x) float32 ...\n",
       "     zt                 (y, x) float32 ...\n",
       "     building_type      (y, x) float32 ...\n",
       "     pavement_type      (y, x) float32 ...\n",
       "     soil_type          (y, x) float32 ...\n",
       "     street_type        (y, x) float32 ...\n",
       "     surface_fraction   (nsurface_fraction, y, x) float32 ...\n",
       "     vegetation_type    (y, x) float32 ...\n",
       "     water_type         (y, x) float32 ...\n",
       "     lad                (zlad, y, x) float32 ...\n",
       " Attributes: (12/20)\n",
       "     title:           Example PALM static driver\n",
       "     author:          devineni\n",
       "     institution:     Institut für nachhaltige Energiesysteme,Hochschule Offen...\n",
       "     comment:         Generic crossing example\n",
       "     creation_date:   22-03-22 13:59:28 +00\n",
       "     history:         \n",
       "     ...              ...\n",
       "     origin_lon:      7.941967\n",
       "     origin_time:     2022-02-22 10:00:00 +00\n",
       "     origin_x:        421779.645\n",
       "     origin_y:        5367929.731\n",
       "     origin_z:        0.0\n",
       "     rotation_angle:  0.0)"
      ]
     },
     "execution_count": 2,
     "metadata": {},
     "output_type": "execute_result"
    }
   ],
   "source": [
    "odr = xr.open_dataset(\n",
    "    \"/home/rdevinen/Documents/GitHub/heatGUIde_palm/static_driver/files/testing_static\", engine=\"netcdf4\")\n",
    "\n",
    "ndr = xr.open_dataset(\n",
    "    \"/home/rdevinen/Documents/GitHub/heatGUIde_palm/static_driver/files/practice_static\", engine=\"netcdf4\")\n",
    "\n",
    "odr, ndr"
   ]
  },
  {
   "cell_type": "markdown",
   "metadata": {},
   "source": [
    "\n",
    "### Faceting\n",
    "\n",
    "Faceting is an effective way of visualizing variations of 3D data where 2D slices are visualized in a panel (subplot) and the third dimensions is varied between panels (subplots)."
   ]
  },
  {
   "cell_type": "code",
   "execution_count": 3,
   "metadata": {},
   "outputs": [
    {
     "data": {
      "image/png": "[encoded data removed]",
      "text/plain": [
       "<Figure size 1368x216 with 7 Axes>"
      ]
     },
     "metadata": {
      "needs_background": "light"
     },
     "output_type": "display_data"
    }
   ],
   "source": [
    "odr[\"surface_fraction\"].sel(nsurface_fraction=slice(0, 2)).plot(col=\"nsurface_fraction\", col_wrap=6, robust=True);"
   ]
  },
  {
   "cell_type": "code",
   "execution_count": 4,
   "metadata": {},
   "outputs": [
    {
     "data": {
      "image/png": "[encoded data removed]",
      "text/plain": [
       "<Figure size 1368x216 with 7 Axes>"
      ]
     },
     "metadata": {
      "needs_background": "light"
     },
     "output_type": "display_data"
    }
   ],
   "source": [
    "ndr[\"surface_fraction\"].sel(nsurface_fraction=slice(0, 2)).plot(col=\"nsurface_fraction\", col_wrap=6, robust=True);"
   ]
  },
  {
   "cell_type": "code",
   "execution_count": null,
   "metadata": {},
   "outputs": [],
   "source": []
  },
  {
   "cell_type": "code",
   "execution_count": null,
   "metadata": {},
   "outputs": [],
   "source": []
  },
  {
   "cell_type": "code",
   "execution_count": null,
   "metadata": {},
   "outputs": [],
   "source": []
  },
  {
   "cell_type": "code",
   "execution_count": null,
   "metadata": {},
   "outputs": [],
   "source": []
  },
  {
   "cell_type": "code",
   "execution_count": null,
   "metadata": {},
   "outputs": [],
   "source": []
  }
 ],
 "metadata": {
  "interpreter": {
   "hash": "affdb75a3ef70a25a87eb00ec52822d75cad558e88f93d5bb3da0d72a04ea7e1"
  },
  "kernelspec": {
   "display_name": "Python 3 (ipykernel)",
   "language": "python",
   "name": "python3"
  },
  "language_info": {
   "codemirror_mode": {
    "name": "ipython",
    "version": 3
   },
   "file_extension": ".py",
   "mimetype": "text/x-python",
   "name": "python",
   "nbconvert_exporter": "python",
   "pygments_lexer": "ipython3",
   "version": "3.7.11"
  },
  "toc-autonumbering": false
 },
 "nbformat": 4,
 "nbformat_minor": 4
}
