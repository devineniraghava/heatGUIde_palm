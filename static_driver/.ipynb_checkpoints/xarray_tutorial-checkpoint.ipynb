{
 "cells": [
  {
   "cell_type": "code",
   "execution_count": 1,
   "id": "6de57ad3-5b90-4f10-9b3b-41499ac1a3f9",
   "metadata": {},
   "outputs": [],
   "source": [
    "import datetime\n",
    "import math\n",
    "import pytz\n",
    "\n",
    "# from netCDF4 import Dataset\n",
    "import numpy as np\n",
    "\n",
    "import netCDF4 as nc\n",
    "\n",
    "# from warnings import filterwarnings\n",
    "# filterwarnings(action='ignore', category=DeprecationWarning, message='`np.bool` is a deprecated alias')"
   ]
  },
  {
   "cell_type": "code",
   "execution_count": 4,
   "id": "5f12047d-ffb9-48eb-81e2-5efc68926af8",
   "metadata": {},
   "outputs": [],
   "source": [
    "fn = \"example_static_file.nc\"\n",
    "\n",
    "ds = nc.Dataset(fn)\n",
    "\n",
    "\n",
    "file = \"test.nc\"\n",
    "# Create file\n",
    "ds = nc.Dataset(file, \"w\", format=\"NETCDF4\")\n",
    "# Create Dimensions\n",
    "time = ds.createDimension(\"time\", None)\n",
    "\n",
    "lat = ds.createDimension(\"lat\", 10)\n",
    "lon = ds.createDimension(\"lon\", 10)\n",
    "# Create Variables \n",
    "times = ds.createVariable(\"time\", \"f4\", (\"time\",))\n",
    "lats = ds.createVariable(\"lat\", \"f4\", (\"lat\",))\n",
    "lons = ds.createVariable(\"lon\",\"f4\",(\"lon\", ))\n",
    "value = ds.createVariable(\"value\", \"f4\", (\"time\", \"lat\", \"lon\",))\n",
    "# Create metadata for variables\n",
    "value.units = \"Unknown\"\n",
    "\n",
    "# Populate Dimensions\n",
    "lats[:] = np.arange(40,50,1)\n",
    "lons[:] = np.arange(-110, -100, 1)\n",
    "\n",
    "# Populate Variables\n",
    "value[0,:,:] = np.random.uniform(0, 100, size=(10,10))\n",
    "\n",
    "xval = np.linspace(0.5, 5, 10)\n",
    "yval = np.linspace(0.5, 5, 10)\n",
    "\n",
    "value[1,:,:] = np.array(xval.reshape(-1,1) + yval)\n",
    "\n",
    "# Close netCDF file\n",
    "# ds.close()\n"
   ]
  },
  {
   "cell_type": "code",
   "execution_count": null,
   "id": "2fa298ce-01b6-4ae3-ace5-836047e48d8d",
   "metadata": {},
   "outputs": [],
   "source": []
  }
 ],
 "metadata": {
  "kernelspec": {
   "display_name": "Python 3 (ipykernel)",
   "language": "python",
   "name": "python3"
  },
  "language_info": {
   "codemirror_mode": {
    "name": "ipython",
    "version": 3
   },
   "file_extension": ".py",
   "mimetype": "text/x-python",
   "name": "python",
   "nbconvert_exporter": "python",
   "pygments_lexer": "ipython3",
   "version": "3.7.11"
  }
 },
 "nbformat": 4,
 "nbformat_minor": 5
}
