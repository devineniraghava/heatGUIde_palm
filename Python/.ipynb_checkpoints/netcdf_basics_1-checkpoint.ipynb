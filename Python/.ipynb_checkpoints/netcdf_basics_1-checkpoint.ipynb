{
 "cells": [
  {
   "cell_type": "code",
   "execution_count": 1,
   "id": "2e8b92a0",
   "metadata": {},
   "outputs": [],
   "source": [
    "import netCDF4 as nc"
   ]
  },
  {
   "cell_type": "code",
   "execution_count": 3,
   "id": "a9f54134",
   "metadata": {},
   "outputs": [
    {
     "ename": "FileNotFoundError",
     "evalue": "[Errno 2] No such file or directory: b'/home/rdevinen/Downloads/flow_around_cube_cyclic_3d.000.nc'",
     "output_type": "error",
     "traceback": [
      "\u001b[0;31m---------------------------------------------------------------------------\u001b[0m",
      "\u001b[0;31mFileNotFoundError\u001b[0m                         Traceback (most recent call last)",
      "\u001b[0;32m/tmp/ipykernel_29890/1607623423.py\u001b[0m in \u001b[0;36m<module>\u001b[0;34m\u001b[0m\n\u001b[1;32m      1\u001b[0m \u001b[0mpath\u001b[0m \u001b[0;34m=\u001b[0m \u001b[0;34m'/home/rdevinen/Downloads/flow_around_cube_cyclic_3d.000.nc'\u001b[0m\u001b[0;34m\u001b[0m\u001b[0;34m\u001b[0m\u001b[0m\n\u001b[0;32m----> 2\u001b[0;31m \u001b[0mds\u001b[0m \u001b[0;34m=\u001b[0m \u001b[0mnc\u001b[0m\u001b[0;34m.\u001b[0m\u001b[0mDataset\u001b[0m\u001b[0;34m(\u001b[0m\u001b[0mpath\u001b[0m\u001b[0;34m)\u001b[0m\u001b[0;34m\u001b[0m\u001b[0;34m\u001b[0m\u001b[0m\n\u001b[0m\u001b[1;32m      3\u001b[0m \u001b[0mds\u001b[0m\u001b[0;34m\u001b[0m\u001b[0;34m\u001b[0m\u001b[0m\n",
      "\u001b[0;32msrc/netCDF4/_netCDF4.pyx\u001b[0m in \u001b[0;36mnetCDF4._netCDF4.Dataset.__init__\u001b[0;34m()\u001b[0m\n",
      "\u001b[0;32msrc/netCDF4/_netCDF4.pyx\u001b[0m in \u001b[0;36mnetCDF4._netCDF4._ensure_nc_success\u001b[0;34m()\u001b[0m\n",
      "\u001b[0;31mFileNotFoundError\u001b[0m: [Errno 2] No such file or directory: b'/home/rdevinen/Downloads/flow_around_cube_cyclic_3d.000.nc'"
     ]
    }
   ],
   "source": [
    "path = '/home/rdevinen/Downloads/flow_around_cube_cyclic_3d.000.nc'\n",
    "ds = nc.Dataset(path)\n",
    "ds"
   ]
  },
  {
   "cell_type": "code",
   "execution_count": 5,
   "id": "bb8cab57",
   "metadata": {},
   "outputs": [
    {
     "data": {
      "text/plain": [
       "{'time': <class 'netCDF4._netCDF4.Dimension'> (unlimited): name = 'time', size = 2,\n",
       " 'zu_3d': <class 'netCDF4._netCDF4.Dimension'>: name = 'zu_3d', size = 42,\n",
       " 'zw_3d': <class 'netCDF4._netCDF4.Dimension'>: name = 'zw_3d', size = 42,\n",
       " 'x': <class 'netCDF4._netCDF4.Dimension'>: name = 'x', size = 40,\n",
       " 'xu': <class 'netCDF4._netCDF4.Dimension'>: name = 'xu', size = 40,\n",
       " 'y': <class 'netCDF4._netCDF4.Dimension'>: name = 'y', size = 40,\n",
       " 'yv': <class 'netCDF4._netCDF4.Dimension'>: name = 'yv', size = 40}"
      ]
     },
     "execution_count": 5,
     "metadata": {},
     "output_type": "execute_result"
    }
   ],
   "source": [
    "ds.dimensions"
   ]
  },
  {
   "cell_type": "code",
   "execution_count": 6,
   "id": "72ed0da2",
   "metadata": {},
   "outputs": [
    {
     "data": {
      "text/plain": [
       "{'time': <class 'netCDF4._netCDF4.Variable'>\n",
       " float64 time(time)\n",
       "     units: seconds\n",
       "     long_name: time\n",
       "     standard_name: time\n",
       "     axis: T\n",
       " unlimited dimensions: time\n",
       " current shape = (2,)\n",
       " filling on, default _FillValue of 9.969209968386869e+36 used,\n",
       " 'zu_3d': <class 'netCDF4._netCDF4.Variable'>\n",
       " float64 zu_3d(zu_3d)\n",
       "     units: meters\n",
       "     axis: Z\n",
       " unlimited dimensions: \n",
       " current shape = (42,)\n",
       " filling on, default _FillValue of 9.969209968386869e+36 used,\n",
       " 'zw_3d': <class 'netCDF4._netCDF4.Variable'>\n",
       " float64 zw_3d(zw_3d)\n",
       "     units: meters\n",
       "     axis: Z\n",
       " unlimited dimensions: \n",
       " current shape = (42,)\n",
       " filling on, default _FillValue of 9.969209968386869e+36 used,\n",
       " 'x': <class 'netCDF4._netCDF4.Variable'>\n",
       " float64 x(x)\n",
       "     units: meters\n",
       "     axis: X\n",
       " unlimited dimensions: \n",
       " current shape = (40,)\n",
       " filling on, default _FillValue of 9.969209968386869e+36 used,\n",
       " 'xu': <class 'netCDF4._netCDF4.Variable'>\n",
       " float64 xu(xu)\n",
       "     units: meters\n",
       "     axis: X\n",
       " unlimited dimensions: \n",
       " current shape = (40,)\n",
       " filling on, default _FillValue of 9.969209968386869e+36 used,\n",
       " 'y': <class 'netCDF4._netCDF4.Variable'>\n",
       " float64 y(y)\n",
       "     units: meters\n",
       "     axis: Y\n",
       " unlimited dimensions: \n",
       " current shape = (40,)\n",
       " filling on, default _FillValue of 9.969209968386869e+36 used,\n",
       " 'yv': <class 'netCDF4._netCDF4.Variable'>\n",
       " float64 yv(yv)\n",
       "     units: meters\n",
       "     axis: Y\n",
       " unlimited dimensions: \n",
       " current shape = (40,)\n",
       " filling on, default _FillValue of 9.969209968386869e+36 used,\n",
       " 'E_UTM': <class 'netCDF4._netCDF4.Variable'>\n",
       " float64 E_UTM(x)\n",
       "     units: m\n",
       "     long_name: easting\n",
       "     standard_name: projection_x_coordinate\n",
       " unlimited dimensions: \n",
       " current shape = (40,)\n",
       " filling on, default _FillValue of 9.969209968386869e+36 used,\n",
       " 'N_UTM': <class 'netCDF4._netCDF4.Variable'>\n",
       " float64 N_UTM(y)\n",
       "     units: m\n",
       "     long_name: northing\n",
       "     standard_name: projection_y_coordinate\n",
       " unlimited dimensions: \n",
       " current shape = (40,)\n",
       " filling on, default _FillValue of 9.969209968386869e+36 used,\n",
       " 'Eu_UTM': <class 'netCDF4._netCDF4.Variable'>\n",
       " float64 Eu_UTM(xu)\n",
       "     units: m\n",
       "     long_name: easting\n",
       "     standard_name: projection_x_coordinate\n",
       " unlimited dimensions: \n",
       " current shape = (40,)\n",
       " filling on, default _FillValue of 9.969209968386869e+36 used,\n",
       " 'Nu_UTM': <class 'netCDF4._netCDF4.Variable'>\n",
       " float64 Nu_UTM(y)\n",
       "     units: m\n",
       "     long_name: northing\n",
       "     standard_name: projection_y_coordinate\n",
       " unlimited dimensions: \n",
       " current shape = (40,)\n",
       " filling on, default _FillValue of 9.969209968386869e+36 used,\n",
       " 'Ev_UTM': <class 'netCDF4._netCDF4.Variable'>\n",
       " float64 Ev_UTM(x)\n",
       "     units: m\n",
       "     long_name: easting\n",
       "     standard_name: projection_x_coordinate\n",
       " unlimited dimensions: \n",
       " current shape = (40,)\n",
       " filling on, default _FillValue of 9.969209968386869e+36 used,\n",
       " 'Nv_UTM': <class 'netCDF4._netCDF4.Variable'>\n",
       " float64 Nv_UTM(yv)\n",
       "     units: m\n",
       "     long_name: northing\n",
       "     standard_name: projection_y_coordinate\n",
       " unlimited dimensions: \n",
       " current shape = (40,)\n",
       " filling on, default _FillValue of 9.969209968386869e+36 used,\n",
       " 'lon': <class 'netCDF4._netCDF4.Variable'>\n",
       " float64 lon(y, x)\n",
       "     units: degrees_east\n",
       "     long_name: longitude\n",
       "     standard_name: longitude\n",
       " unlimited dimensions: \n",
       " current shape = (40, 40)\n",
       " filling on, default _FillValue of 9.969209968386869e+36 used,\n",
       " 'lat': <class 'netCDF4._netCDF4.Variable'>\n",
       " float64 lat(y, x)\n",
       "     units: degrees_north\n",
       "     long_name: latitude\n",
       "     standard_name: latitude\n",
       " unlimited dimensions: \n",
       " current shape = (40, 40)\n",
       " filling on, default _FillValue of 9.969209968386869e+36 used,\n",
       " 'lonu': <class 'netCDF4._netCDF4.Variable'>\n",
       " float64 lonu(y, xu)\n",
       "     units: degrees_east\n",
       "     long_name: longitude\n",
       "     standard_name: longitude\n",
       " unlimited dimensions: \n",
       " current shape = (40, 40)\n",
       " filling on, default _FillValue of 9.969209968386869e+36 used,\n",
       " 'latu': <class 'netCDF4._netCDF4.Variable'>\n",
       " float64 latu(y, xu)\n",
       "     units: degrees_north\n",
       "     long_name: latitude\n",
       "     standard_name: latitude\n",
       " unlimited dimensions: \n",
       " current shape = (40, 40)\n",
       " filling on, default _FillValue of 9.969209968386869e+36 used,\n",
       " 'lonv': <class 'netCDF4._netCDF4.Variable'>\n",
       " float64 lonv(yv, x)\n",
       "     units: degrees_east\n",
       "     long_name: longitude\n",
       "     standard_name: longitude\n",
       " unlimited dimensions: \n",
       " current shape = (40, 40)\n",
       " filling on, default _FillValue of 9.969209968386869e+36 used,\n",
       " 'latv': <class 'netCDF4._netCDF4.Variable'>\n",
       " float64 latv(yv, x)\n",
       "     units: degrees_north\n",
       "     long_name: latitude\n",
       "     standard_name: latitude\n",
       " unlimited dimensions: \n",
       " current shape = (40, 40)\n",
       " filling on, default _FillValue of 9.969209968386869e+36 used,\n",
       " 'crs': <class 'netCDF4._netCDF4.Variable'>\n",
       " int32 crs()\n",
       "     epsg_code: EPSG:25831\n",
       "     false_easting: 500000.0\n",
       "     false_northing: 0.0\n",
       "     grid_mapping_name: transverse_mercator\n",
       "     inverse_flattening: 298.257223563\n",
       "     latitude_of_projection_origin: 0.0\n",
       "     long_name: coordinate reference system\n",
       "     longitude_of_central_meridian: 3.0\n",
       "     longitude_of_prime_meridian: 0.0\n",
       "     scale_factor_at_central_meridian: 0.9996\n",
       "     semi_major_axis: 6378137.0\n",
       "     units: m\n",
       " unlimited dimensions: \n",
       " current shape = ()\n",
       " filling on, default _FillValue of -2147483647 used,\n",
       " 'u': <class 'netCDF4._netCDF4.Variable'>\n",
       " float32 u(time, zu_3d, y, xu)\n",
       "     units: m/s\n",
       "     long_name: u\n",
       "     _FillValue: -9999.0\n",
       " unlimited dimensions: time\n",
       " current shape = (2, 42, 40, 40)\n",
       " filling on,\n",
       " 'v': <class 'netCDF4._netCDF4.Variable'>\n",
       " float32 v(time, zu_3d, yv, x)\n",
       "     units: m/s\n",
       "     long_name: v\n",
       "     _FillValue: -9999.0\n",
       " unlimited dimensions: time\n",
       " current shape = (2, 42, 40, 40)\n",
       " filling on,\n",
       " 'w': <class 'netCDF4._netCDF4.Variable'>\n",
       " float32 w(time, zw_3d, y, x)\n",
       "     units: m/s\n",
       "     long_name: w\n",
       "     _FillValue: -9999.0\n",
       " unlimited dimensions: time\n",
       " current shape = (2, 42, 40, 40)\n",
       " filling on}"
      ]
     },
     "execution_count": 6,
     "metadata": {},
     "output_type": "execute_result"
    }
   ],
   "source": [
    "ds.variables\n"
   ]
  },
  {
   "cell_type": "code",
   "execution_count": 7,
   "id": "314ab892",
   "metadata": {},
   "outputs": [
    {
     "data": {
      "text/plain": [
       "<class 'netCDF4._netCDF4.Variable'>\n",
       "float32 w(time, zw_3d, y, x)\n",
       "    units: m/s\n",
       "    long_name: w\n",
       "    _FillValue: -9999.0\n",
       "unlimited dimensions: time\n",
       "current shape = (2, 42, 40, 40)\n",
       "filling on"
      ]
     },
     "execution_count": 7,
     "metadata": {},
     "output_type": "execute_result"
    }
   ],
   "source": [
    "ds.variables['w']"
   ]
  },
  {
   "cell_type": "code",
   "execution_count": 9,
   "id": "79e9ff4e",
   "metadata": {},
   "outputs": [
    {
     "ename": "AttributeError",
     "evalue": "NetCDF: Attribute not found",
     "output_type": "error",
     "traceback": [
      "\u001b[0;31m---------------------------------------------------------------------------\u001b[0m",
      "\u001b[0;31mAttributeError\u001b[0m                            Traceback (most recent call last)",
      "\u001b[0;32m/tmp/ipykernel_58426/596540619.py\u001b[0m in \u001b[0;36m<module>\u001b[0;34m\u001b[0m\n\u001b[0;32m----> 1\u001b[0;31m \u001b[0;32mfor\u001b[0m \u001b[0mvar\u001b[0m \u001b[0;32min\u001b[0m \u001b[0mds\u001b[0m\u001b[0;34m.\u001b[0m\u001b[0mvariables\u001b[0m\u001b[0;34m[\u001b[0m\u001b[0;34m'w'\u001b[0m\u001b[0;34m]\u001b[0m\u001b[0;34m.\u001b[0m\u001b[0mvalues\u001b[0m\u001b[0;34m(\u001b[0m\u001b[0;34m)\u001b[0m\u001b[0;34m:\u001b[0m\u001b[0;34m\u001b[0m\u001b[0;34m\u001b[0m\u001b[0m\n\u001b[0m\u001b[1;32m      2\u001b[0m     \u001b[0mprint\u001b[0m\u001b[0;34m(\u001b[0m\u001b[0mvar\u001b[0m\u001b[0;34m)\u001b[0m\u001b[0;34m\u001b[0m\u001b[0;34m\u001b[0m\u001b[0m\n",
      "\u001b[0;32msrc/netCDF4/_netCDF4.pyx\u001b[0m in \u001b[0;36mnetCDF4._netCDF4.Variable.__getattr__\u001b[0;34m()\u001b[0m\n",
      "\u001b[0;32msrc/netCDF4/_netCDF4.pyx\u001b[0m in \u001b[0;36mnetCDF4._netCDF4.Variable.getncattr\u001b[0;34m()\u001b[0m\n",
      "\u001b[0;32msrc/netCDF4/_netCDF4.pyx\u001b[0m in \u001b[0;36mnetCDF4._netCDF4._get_att\u001b[0;34m()\u001b[0m\n",
      "\u001b[0;32msrc/netCDF4/_netCDF4.pyx\u001b[0m in \u001b[0;36mnetCDF4._netCDF4._ensure_nc_success\u001b[0;34m()\u001b[0m\n",
      "\u001b[0;31mAttributeError\u001b[0m: NetCDF: Attribute not found"
     ]
    }
   ],
   "source": [
    "for var in ds.variables['w'].values():\n",
    "    print(var)"
   ]
  },
  {
   "cell_type": "code",
   "execution_count": null,
   "id": "ec6915bf",
   "metadata": {},
   "outputs": [],
   "source": []
  }
 ],
 "metadata": {
  "kernelspec": {
   "display_name": "Python 3 (ipykernel)",
   "language": "python",
   "name": "python3"
  },
  "language_info": {
   "codemirror_mode": {
    "name": "ipython",
    "version": 3
   },
   "file_extension": ".py",
   "mimetype": "text/x-python",
   "name": "python",
   "nbconvert_exporter": "python",
   "pygments_lexer": "ipython3",
   "version": "3.7.11"
  }
 },
 "nbformat": 4,
 "nbformat_minor": 5
}
